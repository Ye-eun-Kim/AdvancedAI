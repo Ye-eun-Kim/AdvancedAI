{
 "cells": [
  {
   "cell_type": "code",
   "execution_count": 2,
   "metadata": {},
   "outputs": [],
   "source": [
    "import os\n",
    "import numpy as np\n",
    "import math\n",
    "import tensorflow as tf\n",
    "from tensorflow.keras.preprocessing.image import ImageDataGenerator\n",
    "from tensorflow.keras.models import Sequential, Model\n",
    "from tensorflow.keras.layers import Conv2D, MaxPooling2D, Flatten, Dense, GlobalAveragePooling2D\n",
    "from tensorflow.keras.applications.resnet50 import ResNet50\n",
    "from tensorflow.keras.callbacks import EarlyStopping\n",
    "from tensorflow.keras.preprocessing.image import img_to_array, array_to_img\n",
    "import cv2\n",
    "import tensorflow_hub as hub"
   ]
  },
  {
   "cell_type": "code",
   "execution_count": 3,
   "metadata": {},
   "outputs": [],
   "source": [
    "\n",
    "# Define a function to apply histogram equalization to images\n",
    "def histogram_equalization(image):\n",
    "    # Convert to array\n",
    "    img_array = img_to_array(image)\n",
    "\n",
    "    # Convert to YUV color space\n",
    "    yuv_img_array = cv2.cvtColor(img_array, cv2.COLOR_RGB2YUV)\n",
    "\n",
    "    # Apply histogram equalization to the Y channel\n",
    "    yuv_img_array[:, :, 0] = cv2.equalizeHist(yuv_img_array[:, :, 0].astype('uint8'))\n",
    "\n",
    "    # Convert back to RGB color space\n",
    "    equalized_img_array = cv2.cvtColor(yuv_img_array, cv2.COLOR_YUV2RGB)\n",
    "\n",
    "    return equalized_img_array\n"
   ]
  },
  {
   "cell_type": "code",
   "execution_count": 4,
   "metadata": {},
   "outputs": [],
   "source": [
    "\n",
    "# Define models\n",
    "# Define a common CNN model\n",
    "def create_common_cnn(input_shape, num_classes):\n",
    "    model = Sequential()\n",
    "    model.add(Conv2D(32, (3, 3), input_shape=input_shape, activation='relu'))\n",
    "    model.add(MaxPooling2D(pool_size=(2, 2)))\n",
    "    model.add(Conv2D(64, (3, 3), activation='relu'))\n",
    "    model.add(MaxPooling2D(pool_size=(2, 2)))\n",
    "    model.add(Flatten())\n",
    "    model.add(Dense(128, activation='relu'))\n",
    "    model.add(Dense(num_classes, activation='softmax'))  # Output layer\n",
    "    return model\n",
    "\n",
    "# Define a function to create a model using ResNet-50 for transfer learning\n",
    "def create_resnet50_transfer_model(input_shape, num_classes):\n",
    "    base_model = ResNet50(weights='imagenet', include_top=False, input_shape=input_shape)\n",
    "    # Unfreeze the layers of the base model\n",
    "    for layer in base_model.layers:\n",
    "        layer.trainable = False\n",
    "\n",
    "    x = base_model.output\n",
    "    x = GlobalAveragePooling2D()(x)\n",
    "    x = Dense(1024, activation='relu')(x)\n",
    "    predictions = Dense(num_classes, activation='softmax')(x)\n",
    "\n",
    "    model = Model(inputs=base_model.input, outputs=predictions)\n",
    "    return model\n",
    "\n",
    "# Define the ResNet18 model for transfer learning\n",
    "def create_resnet18_transfer_model(input_shape, num_classes):\n",
    "    # Load ResNet model from TensorFlow Hub\n",
    "    resnet_hub_url = \"https://tfhub.dev/google/imagenet/resnet_v2_50/feature_vector/4\"  # Example URL for ResNet50\n",
    "    resnet_hub_model = hub.KerasLayer(resnet_hub_url, input_shape=input_shape, trainable=False)\n",
    "\n",
    "    model = Sequential([\n",
    "        resnet_hub_model,\n",
    "        Dense(1024, activation='relu'),\n",
    "        Dense(num_classes, activation='softmax')\n",
    "    ])\n",
    "    return model\n",
    "\n",
    "\n"
   ]
  },
  {
   "cell_type": "code",
   "execution_count": 5,
   "metadata": {},
   "outputs": [],
   "source": [
    "import matplotlib.pyplot as plt\n",
    "\n",
    "import numpy as np\n",
    "import tensorflow as tf\n",
    "\n",
    "def random_grayscale(image, p=0.5):\n",
    "    \"\"\"Apply grayscaling to the image with probability p.\"\"\"\n",
    "    if np.random.rand() < p:\n",
    "        gray_image = tf.image.rgb_to_grayscale(image)\n",
    "        # plt.imshow(gray_image/255.0)\n",
    "        rgb_gray_image = tf.image.grayscale_to_rgb(gray_image)\n",
    "        # plt.imshow(rgb_gray_image/255.0)\n",
    "        return rgb_gray_image \n",
    "\n",
    "    return image"
   ]
  },
  {
   "cell_type": "code",
   "execution_count": 6,
   "metadata": {},
   "outputs": [
    {
     "name": "stdout",
     "output_type": "stream",
     "text": [
      "Found 39 images belonging to 4 classes.\n",
      "Found 8 images belonging to 4 classes.\n",
      "Found 20 images belonging to 4 classes.\n"
     ]
    }
   ],
   "source": [
    "# Define constants\n",
    "IMAGE_SIZE = (224, 224)\n",
    "NUM_EPOCHS = 30\n",
    "COLOR_MODE = 'rgb'\n",
    "SEED = 123\n",
    "batch_size = 4\n",
    "\n",
    "# Data preparation\n",
    "# Define the path of datasets\n",
    "dataset_path = 'dataset'\n",
    "val_dataset_path = 'val_dataset'\n",
    "\n",
    "# Preprocessing and data augmentation setup\n",
    "# Create data generators\n",
    "\n",
    "def custom_preprocessing_function(image):\n",
    "    # Apply histogram equalization or other preprocessing steps first\n",
    "    image = histogram_equalization(image)\n",
    "    # Then apply random grayscaling\n",
    "    image = random_grayscale(image)\n",
    "    return image\n",
    "\n",
    "datagen = ImageDataGenerator(\n",
    "    rescale=1./255,\n",
    "    preprocessing_function=custom_preprocessing_function,\n",
    "    rotation_range=40,\n",
    "    width_shift_range=0.2,\n",
    "    height_shift_range=0.2,\n",
    "    shear_range=0.2,\n",
    "    zoom_range=0.2,\n",
    "    horizontal_flip=True,\n",
    "    fill_mode='nearest',\n",
    "    validation_split=0.2\n",
    ")\n",
    "\n",
    "val_datagen = ImageDataGenerator(rescale=1./255)\n",
    "\n",
    "train_generator = datagen.flow_from_directory(\n",
    "    dataset_path,\n",
    "    shuffle=True,\n",
    "    seed=SEED,\n",
    "    color_mode=COLOR_MODE,\n",
    "    batch_size=batch_size,\n",
    "    target_size=IMAGE_SIZE,\n",
    "    class_mode='categorical',\n",
    "    subset='training'\n",
    ")\n",
    "test_generator = datagen.flow_from_directory(\n",
    "    dataset_path,\n",
    "    shuffle=True,\n",
    "    seed=SEED,\n",
    "    color_mode=COLOR_MODE,\n",
    "    batch_size=batch_size,\n",
    "    target_size=IMAGE_SIZE,\n",
    "    class_mode='categorical',\n",
    "    subset='validation'\n",
    ")\n",
    "val_generator = val_datagen.flow_from_directory(\n",
    "    val_dataset_path,\n",
    "    shuffle=False,\n",
    "    seed=SEED,\n",
    "    color_mode=COLOR_MODE,\n",
    "    batch_size=1,\n",
    "    target_size=IMAGE_SIZE,\n",
    "    class_mode='categorical'\n",
    ")\n"
   ]
  },
  {
   "cell_type": "code",
   "execution_count": 7,
   "metadata": {},
   "outputs": [],
   "source": [
    "# # Fetch a batch of images\n",
    "# images, labels = next(train_generator)\n",
    "\n",
    "# # Function to display images in a grid\n",
    "# def show_images(images, n_rows, n_cols, scale=1):\n",
    "#     fig, axes = plt.subplots(n_rows, n_cols, figsize=(n_cols * scale, n_rows * scale))\n",
    "#     axes = axes.flatten()\n",
    "#     for img, ax in zip(images, axes):\n",
    "#         ax.imshow(img)\n",
    "#         ax.axis('off')\n",
    "#     plt.tight_layout()\n",
    "#     plt.show()\n",
    "\n",
    "# # Display the images\n",
    "# show_images(images, n_rows=2, n_cols=2, scale=3)"
   ]
  },
  {
   "cell_type": "code",
   "execution_count": 15,
   "metadata": {},
   "outputs": [],
   "source": [
    "# Define a function to run experiments varifying batch size and model type\n",
    "def run_experiment(batch_size, model_type, augmentation_flag, epochs):\n",
    "    # Define constants\n",
    "    IMAGE_SIZE = (224, 224)\n",
    "    NUM_EPOCHS = epochs\n",
    "    COLOR_MODE = 'rgb'\n",
    "    SEED = 123\n",
    "    \n",
    "\n",
    "    # Data preparation\n",
    "    # Define the path of datasets\n",
    "    dataset_path = 'dataset'\n",
    "    val_dataset_path = 'val_dataset'\n",
    "\n",
    "    # Preprocessing and data augmentation setup\n",
    "    # Create data generators\n",
    "    if augmentation_flag == 1:\n",
    "        datagen = ImageDataGenerator(\n",
    "        rescale=1./255,\n",
    "        preprocessing_function=custom_preprocessing_function,\n",
    "        rotation_range=40,\n",
    "        width_shift_range=0.2,\n",
    "        height_shift_range=0.2,\n",
    "        shear_range=0.2,\n",
    "        zoom_range=0.2,\n",
    "        horizontal_flip=True,\n",
    "        fill_mode='nearest',\n",
    "        validation_split=0.2\n",
    "    )\n",
    "    else:\n",
    "        datagen = ImageDataGenerator(\n",
    "            rescale=1./255,\n",
    "            preprocessing_function=histogram_equalization,\n",
    "            validation_split=0.2\n",
    "        )\n",
    "    val_datagen = ImageDataGenerator(rescale=1./255)\n",
    "\n",
    "    train_generator = datagen.flow_from_directory(\n",
    "        dataset_path,\n",
    "        shuffle=True,\n",
    "        seed=SEED,\n",
    "        color_mode=COLOR_MODE,\n",
    "        batch_size=batch_size,\n",
    "        target_size=IMAGE_SIZE,\n",
    "        class_mode='categorical',\n",
    "        subset='training'\n",
    "    )\n",
    "    test_generator = datagen.flow_from_directory(\n",
    "        dataset_path,\n",
    "        shuffle=True,\n",
    "        seed=SEED,\n",
    "        color_mode=COLOR_MODE,\n",
    "        batch_size=batch_size,\n",
    "        target_size=IMAGE_SIZE,\n",
    "        class_mode='categorical',\n",
    "        subset='validation'\n",
    "    )\n",
    "    val_generator = val_datagen.flow_from_directory(\n",
    "        val_dataset_path,\n",
    "        shuffle=False,\n",
    "        seed=SEED,\n",
    "        color_mode=COLOR_MODE,\n",
    "        batch_size=1,\n",
    "        target_size=IMAGE_SIZE,\n",
    "        class_mode='categorical'\n",
    "    )\n",
    "\n",
    "\n",
    "    # Append the color channel to create input_shape\n",
    "    input_shape = IMAGE_SIZE+(3,)\n",
    "\n",
    "    # Select model\n",
    "    if model_type == 'common':\n",
    "        model = create_common_cnn(input_shape=input_shape, num_classes=4)\n",
    "    elif model_type == 'resnet50':\n",
    "        model = create_resnet50_transfer_model(input_shape=input_shape, num_classes=4)\n",
    "    elif model_type == 'resnet18':\n",
    "        model = create_resnet18_transfer_model(input_shape=input_shape, num_classes=4)\n",
    "\n",
    "    # Compile the model\n",
    "    model.compile(optimizer='adam', loss='categorical_crossentropy', metrics=['accuracy'])\n",
    "\n",
    "    # Define early stopping criteria\n",
    "    early_stopping = EarlyStopping(\n",
    "        monitor='accuracy', \n",
    "        patience=5,  # Number of epochs with no improvement after which training will be stopped\n",
    "        restore_best_weights=True\n",
    "    )\n",
    "    \n",
    "    # Train the model\n",
    "    history = model.fit(\n",
    "        train_generator,\n",
    "        # steps_per_epoch=math.ceil(len(train_generator)),\n",
    "        epochs=NUM_EPOCHS,\n",
    "        validation_data=test_generator,\n",
    "        # validation_steps=math.ceil(len(train_generator)),\n",
    "        # callbacks=[early_stopping]\n",
    "    )\n",
    "\n",
    "\n",
    "    plt.figure(figsize=(12, 5))\n",
    "\n",
    "    # Plot training & validation accuracy values\n",
    "    plt.subplot(1, 2, 1)\n",
    "    plt.plot(history.history['accuracy'])\n",
    "    plt.plot(history.history['val_accuracy'])\n",
    "    plt.title(f'Model Accuracy ({model_type}, {batch_size}, {augmentation_flag})')\n",
    "    plt.ylabel('Accuracy')\n",
    "    plt.xlabel('Epoch')\n",
    "    plt.legend(['Train', 'Test'], loc='upper left')\n",
    "\n",
    "    # Plot training & validation loss values\n",
    "    plt.subplot(1, 2, 2)\n",
    "    plt.plot(history.history['loss'])\n",
    "    plt.plot(history.history['val_loss'])\n",
    "    plt.title('Model Loss')\n",
    "    plt.ylabel('Loss')\n",
    "    plt.xlabel('Epoch')\n",
    "    plt.legend(['Train', 'Test'], loc='upper left')\n",
    "\n",
    "    plt.show()\n",
    "\n",
    "    val_loss, val_accuracy = model.evaluate(val_generator, steps=len(val_generator))\n",
    "    print(f'val_loss: {val_loss}, val_accuracy: {val_accuracy}')\n"
   ]
  },
  {
   "cell_type": "code",
   "execution_count": 9,
   "metadata": {},
   "outputs": [
    {
     "name": "stdout",
     "output_type": "stream",
     "text": [
      "Found 39 images belonging to 4 classes.\n",
      "Found 8 images belonging to 4 classes.\n"
     ]
    },
    {
     "name": "stdout",
     "output_type": "stream",
     "text": [
      "Found 20 images belonging to 4 classes.\n",
      "Epoch 1/10\n",
      "10/10 [==============================] - ETA: 0s - loss: 8.8001 - accuracy: 0.2308WARNING:tensorflow:Your input ran out of data; interrupting training. Make sure that your dataset or generator can generate at least `steps_per_epoch * epochs` batches (in this case, 10 batches). You may need to use the repeat() function when building your dataset.\n",
      "10/10 [==============================] - 5s 390ms/step - loss: 8.8001 - accuracy: 0.2308 - val_loss: 1.3474 - val_accuracy: 0.3750\n",
      "Epoch 2/10\n",
      "10/10 [==============================] - ETA: 0s - loss: 1.2830 - accuracy: 0.4872WARNING:tensorflow:Early stopping conditioned on metric `val_loss` which is not available. Available metrics are: loss,accuracy\n",
      "10/10 [==============================] - 4s 353ms/step - loss: 1.2830 - accuracy: 0.4872\n",
      "Epoch 3/10\n",
      "10/10 [==============================] - ETA: 0s - loss: 0.9906 - accuracy: 0.6410WARNING:tensorflow:Early stopping conditioned on metric `val_loss` which is not available. Available metrics are: loss,accuracy\n",
      "10/10 [==============================] - 4s 373ms/step - loss: 0.9906 - accuracy: 0.6410\n",
      "Epoch 4/10\n",
      "10/10 [==============================] - ETA: 0s - loss: 0.3062 - accuracy: 0.9744WARNING:tensorflow:Early stopping conditioned on metric `val_loss` which is not available. Available metrics are: loss,accuracy\n",
      "10/10 [==============================] - 4s 395ms/step - loss: 0.3062 - accuracy: 0.9744\n",
      "Epoch 5/10\n",
      "10/10 [==============================] - ETA: 0s - loss: 0.0857 - accuracy: 1.0000WARNING:tensorflow:Early stopping conditioned on metric `val_loss` which is not available. Available metrics are: loss,accuracy\n",
      "10/10 [==============================] - 4s 342ms/step - loss: 0.0857 - accuracy: 1.0000\n",
      "Epoch 6/10\n",
      "10/10 [==============================] - ETA: 0s - loss: 0.0384 - accuracy: 1.0000WARNING:tensorflow:Early stopping conditioned on metric `val_loss` which is not available. Available metrics are: loss,accuracy\n",
      "10/10 [==============================] - 4s 351ms/step - loss: 0.0384 - accuracy: 1.0000\n",
      "Epoch 7/10\n",
      "10/10 [==============================] - ETA: 0s - loss: 0.0137 - accuracy: 1.0000WARNING:tensorflow:Early stopping conditioned on metric `val_loss` which is not available. Available metrics are: loss,accuracy\n",
      "10/10 [==============================] - 4s 397ms/step - loss: 0.0137 - accuracy: 1.0000\n",
      "Epoch 8/10\n",
      "10/10 [==============================] - ETA: 0s - loss: 0.0019 - accuracy: 1.0000WARNING:tensorflow:Early stopping conditioned on metric `val_loss` which is not available. Available metrics are: loss,accuracy\n",
      "10/10 [==============================] - 4s 356ms/step - loss: 0.0019 - accuracy: 1.0000\n",
      "Epoch 9/10\n",
      "10/10 [==============================] - ETA: 0s - loss: 0.0011 - accuracy: 1.0000WARNING:tensorflow:Early stopping conditioned on metric `val_loss` which is not available. Available metrics are: loss,accuracy\n",
      "10/10 [==============================] - 4s 339ms/step - loss: 0.0011 - accuracy: 1.0000\n",
      "Epoch 10/10\n",
      "10/10 [==============================] - ETA: 0s - loss: 7.8510e-04 - accuracy: 1.0000WARNING:tensorflow:Early stopping conditioned on metric `val_loss` which is not available. Available metrics are: loss,accuracy\n",
      "10/10 [==============================] - 4s 355ms/step - loss: 7.8510e-04 - accuracy: 1.0000\n"
     ]
    },
    {
     "data": {
      "image/png": "[encoded data removed]",
      "text/plain": [
       "<Figure size 1200x500 with 2 Axes>"
      ]
     },
     "metadata": {},
     "output_type": "display_data"
    },
    {
     "name": "stdout",
     "output_type": "stream",
     "text": [
      "20/20 [==============================] - 1s 31ms/step - loss: 2.2554 - accuracy: 0.4000\n",
      "val_loss: 2.255415678024292, val_accuracy: 0.4000000059604645\n"
     ]
    }
   ],
   "source": [
    "# Running experiments\n",
    "batch_sizes = [4,8,16,32]\n",
    "# model_types = ['common', 'resnet50', 'resnet18']\n",
    "model_types = ['common']\n",
    "aug_flags = [0, 1]\n",
    "\n",
    "\n",
    "run_experiment(4, 'common', 0, 10)\n",
    "\n",
    "            \n",
    "# https://stackoverflow.com/questions/63636565/datagen-flow-from-directory-function\n",
    "# https://stackoverflow.com/questions/59864408/tensorflowyour-input-ran-out-of-data"
   ]
  },
  {
   "cell_type": "code",
   "execution_count": 16,
   "metadata": {},
   "outputs": [
    {
     "name": "stdout",
     "output_type": "stream",
     "text": [
      "Found 39 images belonging to 4 classes.\n"
     ]
    },
    {
     "name": "stdout",
     "output_type": "stream",
     "text": [
      "Found 8 images belonging to 4 classes.\n",
      "Found 20 images belonging to 4 classes.\n",
      "Epoch 1/50\n",
      "3/3 [==============================] - 4s 1s/step - loss: 14.2742 - accuracy: 0.3590 - val_loss: 15.0258 - val_accuracy: 0.2500\n",
      "Epoch 2/50\n",
      "3/3 [==============================] - 3s 1s/step - loss: 6.3307 - accuracy: 0.3333 - val_loss: 2.7070 - val_accuracy: 0.3750\n",
      "Epoch 3/50\n",
      "3/3 [==============================] - 2s 736ms/step - loss: 2.3718 - accuracy: 0.2821 - val_loss: 1.4502 - val_accuracy: 0.2500\n",
      "Epoch 4/50\n",
      "3/3 [==============================] - 3s 986ms/step - loss: 1.3759 - accuracy: 0.4103 - val_loss: 1.3969 - val_accuracy: 0.2500\n",
      "Epoch 5/50\n",
      "3/3 [==============================] - 3s 874ms/step - loss: 1.3320 - accuracy: 0.4103 - val_loss: 1.3663 - val_accuracy: 0.5000\n",
      "Epoch 6/50\n",
      "1/3 [=========>....................] - ETA: 2s - loss: 1.3916 - accuracy: 0.3125"
     ]
    },
    {
     "ename": "",
     "evalue": "",
     "output_type": "error",
     "traceback": [
      "\u001b[1;31mThe Kernel crashed while executing code in the the current cell or a previous cell. Please review the code in the cell(s) to identify a possible cause of the failure. Click <a href='https://aka.ms/vscodeJupyterKernelCrash'>here</a> for more info. View Jupyter <a href='command:jupyter.viewOutput'>log</a> for further details."
     ]
    }
   ],
   "source": [
    "run_experiment(16, 'common', 1, 50)"
   ]
  },
  {
   "cell_type": "code",
   "execution_count": null,
   "metadata": {},
   "outputs": [],
   "source": []
  },
  {
   "cell_type": "code",
   "execution_count": null,
   "metadata": {},
   "outputs": [],
   "source": []
  },
  {
   "cell_type": "code",
   "execution_count": null,
   "metadata": {},
   "outputs": [],
   "source": []
  },
  {
   "cell_type": "code",
   "execution_count": null,
   "metadata": {},
   "outputs": [],
   "source": []
  },
  {
   "cell_type": "code",
   "execution_count": 9,
   "metadata": {},
   "outputs": [
    {
     "name": "stdout",
     "output_type": "stream",
     "text": [
      "Downloading split 'validation' to 'C:\\Users\\YE KIM\\fiftyone\\open-images-v6\\validation' if necessary\n",
      "Downloading 'https://storage.googleapis.com/openimages/2018_04/validation/validation-images-with-rotation.csv' to 'C:\\Users\\YE KIM\\fiftyone\\open-images-v6\\validation\\metadata\\image_ids.csv'\n",
      "Downloading 'https://storage.googleapis.com/openimages/v5/class-descriptions-boxable.csv' to 'C:\\Users\\YE KIM\\fiftyone\\open-images-v6\\validation\\metadata\\classes.csv'\n",
      "Downloading 'https://storage.googleapis.com/openimages/v6/oidv6-attributes-description.csv' to 'C:\\Users\\YE KIM\\fiftyone\\open-images-v6\\validation\\metadata\\attributes.csv'\n",
      "Downloading 'https://storage.googleapis.com/openimages/v5/classes-segmentation.txt' to 'C:\\Users\\YE KIM\\fiftyone\\open-images-v6\\validation\\metadata\\segmentation_classes.csv'\n",
      "Downloading 'https://storage.googleapis.com/openimages/2018_04/bbox_labels_600_hierarchy.json' to 'C:\\Temp\\tmpogdinsox\\metadata\\hierarchy.json'\n",
      "Downloading 'https://storage.googleapis.com/openimages/v5/validation-annotations-human-imagelabels-boxable.csv' to 'C:\\Users\\YE KIM\\fiftyone\\open-images-v6\\validation\\labels\\classifications.csv'\n",
      "Downloading 'https://storage.googleapis.com/openimages/v5/validation-annotations-bbox.csv' to 'C:\\Users\\YE KIM\\fiftyone\\open-images-v6\\validation\\labels\\detections.csv'\n",
      "Downloading 'https://storage.googleapis.com/openimages/v6/oidv6-validation-annotations-vrd.csv' to 'C:\\Users\\YE KIM\\fiftyone\\open-images-v6\\validation\\labels\\relationships.csv'\n",
      "Downloading 'https://storage.googleapis.com/openimages/v5/validation-annotations-object-segmentation.csv' to 'C:\\Users\\YE KIM\\fiftyone\\open-images-v6\\validation\\labels\\segmentations.csv'\n",
      "Downloading 41620 images\n",
      " 100% |███████████████| 41620/41620 [2.6h elapsed, 0s remaining, 15.9 files/s]      \n",
      "Dataset info written to 'C:\\Users\\YE KIM\\fiftyone\\open-images-v6\\info.json'\n",
      "Ignoring unsupported parameter 'only_metadata' for importer type <class 'fiftyone.utils.openimages.OpenImagesV6DatasetImporter'>\n",
      "Loading 'open-images-v6' split 'validation'\n",
      " 100% |█████████████| 41620/41620 [1.9h elapsed, 0s remaining, 16.9 samples/s]      \n",
      "Dataset 'open-images-v6-validation' created\n",
      "['Accordion', 'Adhesive tape', 'Aircraft', 'Airplane', 'Alarm clock', 'Alpaca', 'Ambulance', 'Animal', 'Ant', 'Antelope', 'Apple', 'Armadillo', 'Artichoke', 'Auto part', 'Axe', 'Backpack', 'Bagel', 'Baked goods', 'Balance beam', 'Ball', 'Balloon', 'Banana', 'Band-aid', 'Banjo', 'Barge', 'Barrel', 'Baseball bat', 'Baseball glove', 'Bat (Animal)', 'Bathroom accessory', 'Bathroom cabinet', 'Bathtub', 'Beaker', 'Bear', 'Bed', 'Bee', 'Beehive', 'Beer', 'Beetle', 'Bell pepper', 'Belt', 'Bench', 'Bicycle', 'Bicycle helmet', 'Bicycle wheel', 'Bidet', 'Billboard', 'Billiard table', 'Binoculars', 'Bird', 'Blender', 'Blue jay', 'Boat', 'Bomb', 'Book', 'Bookcase', 'Boot', 'Bottle', 'Bottle opener', 'Bow and arrow', 'Bowl', 'Bowling equipment', 'Box', 'Boy', 'Brassiere', 'Bread', 'Briefcase', 'Broccoli', 'Bronze sculpture', 'Brown bear', 'Building', 'Bull', 'Burrito', 'Bus', 'Bust', 'Butterfly', 'Cabbage', 'Cabinetry', 'Cake', 'Cake stand', 'Calculator', 'Camel', 'Camera', 'Can opener', 'Canary', 'Candle', 'Candy', 'Cannon', 'Canoe', 'Cantaloupe', 'Car', 'Carnivore', 'Carrot', 'Cart', 'Cassette deck', 'Castle', 'Cat', 'Cat furniture', 'Caterpillar', 'Cattle', 'Ceiling fan', 'Cello', 'Centipede', 'Chainsaw', 'Chair', 'Cheese', 'Cheetah', 'Chest of drawers', 'Chicken', 'Chime', 'Chisel', 'Chopsticks', 'Christmas tree', 'Clock', 'Closet', 'Clothing', 'Coat', 'Cocktail', 'Cocktail shaker', 'Coconut', 'Coffee', 'Coffee cup', 'Coffee table', 'Coffeemaker', 'Coin', 'Common fig', 'Common sunflower', 'Computer keyboard', 'Computer monitor', 'Computer mouse', 'Container', 'Convenience store', 'Cookie', 'Cooking spray', 'Corded phone', 'Cosmetics', 'Couch', 'Countertop', 'Cowboy hat', 'Crab', 'Cream', 'Cricket ball', 'Crocodile', 'Croissant', 'Crown', 'Crutch', 'Cucumber', 'Cupboard', 'Curtain', 'Cutting board', 'Dagger', 'Dairy Product', 'Deer', 'Desk', 'Dessert', 'Diaper', 'Dice', 'Digital clock', 'Dinosaur', 'Dishwasher', 'Dog', 'Dog bed', 'Doll', 'Dolphin', 'Door', 'Door handle', 'Doughnut', 'Dragonfly', 'Drawer', 'Dress', 'Drill (Tool)', 'Drink', 'Drinking straw', 'Drum', 'Duck', 'Dumbbell', 'Eagle', 'Earrings', 'Egg (Food)', 'Elephant', 'Envelope', 'Eraser', 'Face powder', 'Facial tissue holder', 'Falcon', 'Fashion accessory', 'Fast food', 'Fax', 'Fedora', 'Filing cabinet', 'Fire hydrant', 'Fireplace', 'Fish', 'Flag', 'Flashlight', 'Flower', 'Flowerpot', 'Flute', 'Flying disc', 'Food', 'Food processor', 'Football', 'Football helmet', 'Footwear', 'Fork', 'Fountain', 'Fox', 'French fries', 'French horn', 'Frog', 'Fruit', 'Frying pan', 'Furniture', 'Garden Asparagus', 'Gas stove', 'Giraffe', 'Girl', 'Glasses', 'Glove', 'Goat', 'Goggles', 'Goldfish', 'Golf ball', 'Golf cart', 'Gondola', 'Goose', 'Grape', 'Grapefruit', 'Grinder', 'Guacamole', 'Guitar', 'Hair dryer', 'Hair spray', 'Hamburger', 'Hammer', 'Hamster', 'Hand dryer', 'Handbag', 'Handgun', 'Harbor seal', 'Harmonica', 'Harp', 'Harpsichord', 'Hat', 'Headphones', 'Heater', 'Hedgehog', 'Helicopter', 'Helmet', 'High heels', 'Hiking equipment', 'Hippopotamus', 'Home appliance', 'Honeycomb', 'Horizontal bar', 'Horse', 'Hot dog', 'House', 'Houseplant', 'Human arm', 'Human beard', 'Human body', 'Human ear', 'Human eye', 'Human face', 'Human foot', 'Human hair', 'Human hand', 'Human head', 'Human leg', 'Human mouth', 'Human nose', 'Humidifier', 'Ice cream', 'Indoor rower', 'Infant bed', 'Insect', 'Invertebrate', 'Ipod', 'Isopod', 'Jacket', 'Jacuzzi', 'Jaguar (Animal)', 'Jeans', 'Jellyfish', 'Jet ski', 'Jug', 'Juice', 'Kangaroo', 'Kettle', 'Kitchen & dining room table', 'Kitchen appliance', 'Kitchen knife', 'Kitchen utensil', 'Kitchenware', 'Kite', 'Knife', 'Koala', 'Ladder', 'Ladle', 'Ladybug', 'Lamp', 'Land vehicle', 'Lantern', 'Laptop', 'Lavender (Plant)', 'Lemon', 'Leopard', 'Light bulb', 'Light switch', 'Lighthouse', 'Lily', 'Limousine', 'Lion', 'Lipstick', 'Lizard', 'Lobster', 'Loveseat', 'Luggage and bags', 'Lynx', 'Magpie', 'Mammal', 'Man', 'Mango', 'Maple', 'Maracas', 'Marine invertebrates', 'Marine mammal', 'Measuring cup', 'Mechanical fan', 'Medical equipment', 'Microphone', 'Microwave oven', 'Milk', 'Miniskirt', 'Mirror', 'Missile', 'Mixer', 'Mixing bowl', 'Mobile phone', 'Monkey', 'Moths and butterflies', 'Motorcycle', 'Mouse', 'Muffin', 'Mug', 'Mule', 'Mushroom', 'Musical instrument', 'Musical keyboard', 'Nail (Construction)', 'Necklace', 'Nightstand', 'Oboe', 'Office building', 'Office supplies', 'Orange', 'Organ (Musical Instrument)', 'Ostrich', 'Otter', 'Oven', 'Owl', 'Oyster', 'Paddle', 'Palm tree', 'Pancake', 'Panda', 'Paper cutter', 'Paper towel', 'Parachute', 'Parking meter', 'Parrot', 'Pasta', 'Pastry', 'Peach', 'Pear', 'Pen', 'Pencil case', 'Pencil sharpener', 'Penguin', 'Perfume', 'Person', 'Personal care', 'Personal flotation device', 'Piano', 'Picnic basket', 'Picture frame', 'Pig', 'Pillow', 'Pineapple', 'Pitcher (Container)', 'Pizza', 'Pizza cutter', 'Plant', 'Plastic bag', 'Plate', 'Platter', 'Plumbing fixture', 'Polar bear', 'Pomegranate', 'Popcorn', 'Porch', 'Porcupine', 'Poster', 'Potato', 'Power plugs and sockets', 'Pressure cooker', 'Pretzel', 'Printer', 'Pumpkin', 'Punching bag', 'Rabbit', 'Raccoon', 'Racket', 'Radish', 'Ratchet (Device)', 'Raven', 'Rays and skates', 'Red panda', 'Refrigerator', 'Remote control', 'Reptile', 'Rhinoceros', 'Rifle', 'Ring binder', 'Rocket', 'Roller skates', 'Rose', 'Rugby ball', 'Ruler', 'Salad', 'Salt and pepper shakers', 'Sandal', 'Sandwich', 'Saucer', 'Saxophone', 'Scale', 'Scarf', 'Scissors', 'Scoreboard', 'Scorpion', 'Screwdriver', 'Sculpture', 'Sea lion', 'Sea turtle', 'Seafood', 'Seahorse', 'Seat belt', 'Segway', 'Serving tray', 'Sewing machine', 'Shark', 'Sheep', 'Shelf', 'Shellfish', 'Shirt', 'Shorts', 'Shotgun', 'Shower', 'Shrimp', 'Sink', 'Skateboard', 'Ski', 'Skirt', 'Skull', 'Skunk', 'Skyscraper', 'Slow cooker', 'Snack', 'Snail', 'Snake', 'Snowboard', 'Snowman', 'Snowmobile', 'Snowplow', 'Soap dispenser', 'Sock', 'Sofa bed', 'Sombrero', 'Sparrow', 'Spatula', 'Spice rack', 'Spider', 'Spoon', 'Sports equipment', 'Sports uniform', 'Squash (Plant)', 'Squid', 'Squirrel', 'Stairs', 'Stapler', 'Starfish', 'Stationary bicycle', 'Stethoscope', 'Stool', 'Stop sign', 'Strawberry', 'Street light', 'Stretcher', 'Studio couch', 'Submarine', 'Submarine sandwich', 'Suit', 'Suitcase', 'Sun hat', 'Sunglasses', 'Surfboard', 'Sushi', 'Swan', 'Swim cap', 'Swimming pool', 'Swimwear', 'Sword', 'Syringe', 'Table', 'Table tennis racket', 'Tablet computer', 'Tableware', 'Taco', 'Tank', 'Tap', 'Tart', 'Taxi', 'Tea', 'Teapot', 'Teddy bear', 'Telephone', 'Television', 'Tennis ball', 'Tennis racket', 'Tent', 'Tiara', 'Tick', 'Tie', 'Tiger', 'Tin can', 'Tire', 'Toaster', 'Toilet', 'Toilet paper', 'Tomato', 'Tool', 'Toothbrush', 'Torch', 'Tortoise', 'Towel', 'Tower', 'Toy', 'Traffic light', 'Traffic sign', 'Train', 'Training bench', 'Treadmill', 'Tree', 'Tree house', 'Tripod', 'Trombone', 'Trousers', 'Truck', 'Trumpet', 'Turkey', 'Turtle', 'Umbrella', 'Unicycle', 'Van', 'Vase', 'Vegetable', 'Vehicle', 'Vehicle registration plate', 'Violin', 'Volleyball (Ball)', 'Waffle', 'Waffle iron', 'Wall clock', 'Wardrobe', 'Washing machine', 'Waste container', 'Watch', 'Watercraft', 'Watermelon', 'Weapon', 'Whale', 'Wheel', 'Wheelchair', 'Whisk', 'Whiteboard', 'Willow', 'Window', 'Window blind', 'Wine', 'Wine glass', 'Wine rack', 'Winter melon', 'Wok', 'Woman', 'Wood-burning stove', 'Woodpecker', 'Worm', 'Wrench', 'Zebra', 'Zucchini']\n"
     ]
    }
   ],
   "source": [
    "import fiftyone as fo\n",
    "import fiftyone.zoo as foz\n",
    "\n",
    "# Load the Open Images Dataset (only the dataset's info, not the actual data)\n",
    "dataset = foz.load_zoo_dataset(\"open-images-v6\", split=\"validation\", only_metadata=True)\n",
    "\n",
    "# Get the list of class labels in the dataset\n",
    "print(dataset.default_classes)"
   ]
  },
  {
   "cell_type": "code",
   "execution_count": 15,
   "metadata": {},
   "outputs": [
    {
     "name": "stdout",
     "output_type": "stream",
     "text": [
      "Downloading split 'validation' to 'C:\\Users\\YE KIM\\fiftyone\\open-images-v6\\validation' if necessary\n"
     ]
    },
    {
     "name": "stdout",
     "output_type": "stream",
     "text": [
      "Necessary images already downloaded\n",
      "Existing download of split 'validation' is sufficient\n",
      "Loading existing dataset 'open-images-food'. To reload from disk, either delete the existing dataset or provide a custom `dataset_name` to use\n"
     ]
    },
    {
     "data": {
      "text/html": [
       "\n",
       "        <iframe\n",
       "            width=\"100%\"\n",
       "            height=\"800\"\n",
       "            src=\"http://localhost:5151/?notebook=True&subscription=a0733e4e-5ce4-4666-b49e-592c233d89af\"\n",
       "            frameborder=\"0\"\n",
       "            allowfullscreen\n",
       "            \n",
       "        ></iframe>\n",
       "        "
      ],
      "text/plain": [
       "<IPython.lib.display.IFrame at 0x1fc81741100>"
      ]
     },
     "metadata": {},
     "output_type": "display_data"
    }
   ],
   "source": [
    "dataset = foz.load_zoo_dataset(\n",
    "    \"open-images-v6\",\n",
    "    split=\"validation\",\n",
    "    label_types=[ \"classifications\"],\n",
    "    classes = [\"Picture frame\"],\n",
    "    max_samples=100,\n",
    "    seed=51,\n",
    "    shuffle=True,\n",
    "    dataset_name=\"open-images-food\",\n",
    ")\n",
    "\n",
    "session = fo.launch_app(dataset.view())\n"
   ]
  }
 ],
 "metadata": {
  "kernelspec": {
   "display_name": "advancedAI",
   "language": "python",
   "name": "python3"
  },
  "language_info": {
   "codemirror_mode": {
    "name": "ipython",
    "version": 3
   },
   "file_extension": ".py",
   "mimetype": "text/x-python",
   "name": "python",
   "nbconvert_exporter": "python",
   "pygments_lexer": "ipython3",
   "version": "3.9.18"
  }
 },
 "nbformat": 4,
 "nbformat_minor": 2
}
